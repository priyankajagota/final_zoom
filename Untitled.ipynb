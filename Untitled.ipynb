{
 "cells": [
  {
   "cell_type": "code",
   "execution_count": 10,
   "metadata": {},
   "outputs": [
    {
     "name": "stdout",
     "output_type": "stream",
     "text": [
      "Collecting imutils\n",
      "  Downloading imutils-0.5.4.tar.gz (17 kB)\n",
      "Building wheels for collected packages: imutils\n",
      "  Building wheel for imutils (setup.py): started\n",
      "  Building wheel for imutils (setup.py): finished with status 'done'\n",
      "  Created wheel for imutils: filename=imutils-0.5.4-py3-none-any.whl size=25862 sha256=8fd910c106e62311fe90c6baa422aa085248897b37c78a0eb2cb3d26dcb4f70f\n",
      "  Stored in directory: c:\\users\\priya\\appdata\\local\\pip\\cache\\wheels\\86\\d7\\0a\\4923351ed1cec5d5e24c1eaf8905567b02a0343b24aa873df2\n",
      "Successfully built imutils\n",
      "Installing collected packages: imutils\n",
      "Successfully installed imutils-0.5.4\n"
     ]
    }
   ],
   "source": [
    "!pip3 install imutils"
   ]
  },
  {
   "cell_type": "code",
   "execution_count": 1,
   "metadata": {},
   "outputs": [],
   "source": [
    "from tensorflow.keras.preprocessing.image import ImageDataGenerator\n",
    "from tensorflow.keras.applications import VGG16\n",
    "from tensorflow.keras.layers import AveragePooling2D\n",
    "from tensorflow.keras.layers import Dropout\n",
    "from tensorflow.keras.layers import Flatten\n",
    "from tensorflow.keras.layers import Dense\n",
    "from tensorflow.keras.layers import Input\n",
    "from tensorflow.keras.models import Model\n",
    "from tensorflow.keras.optimizers import Adam\n",
    "from tensorflow.keras.utils import to_categorical\n",
    "from sklearn.preprocessing import LabelBinarizer\n",
    "from sklearn.model_selection import train_test_split\n",
    "from sklearn.metrics import classification_report\n",
    "from sklearn.metrics import confusion_matrix\n",
    "from imutils import paths\n",
    "import matplotlib.pyplot as plt\n",
    "import numpy as np\n",
    "import argparse\n",
    "import cv2\n",
    "import os"
   ]
  },
  {
   "cell_type": "code",
   "execution_count": 25,
   "metadata": {},
   "outputs": [
    {
     "name": "stdout",
     "output_type": "stream",
     "text": [
      "[INFO] loading images...\n"
     ]
    }
   ],
   "source": [
    "print(\"[INFO] loading images...\")\n",
    "imagePaths = list(paths.list_images(\"brain_tumor_dataset\"))\n",
    "data = []\n",
    "labels = []\n",
    "\n",
    "for imagePath in imagePaths:\n",
    "\n",
    "\tlabel = imagePath.split(os.path.sep)[-2]\n",
    "\n",
    "\n",
    "\timage = cv2.imread(imagePath)\n",
    "\timage = cv2.cvtColor(image, cv2.COLOR_BGR2RGB)\n",
    "\timage = cv2.resize(image, (224, 224))\n",
    "\n",
    "\n",
    "\tdata.append(image)\n",
    "\tlabels.append(label)\n",
    "\n",
    "\n",
    "data = np.array(data) / 255.0\n",
    "labels = np.array(labels)\n",
    "\n",
    "# perform one-hot encoding on the labels\n",
    "lb = LabelBinarizer()\n",
    "labels = lb.fit_transform(labels)\n",
    "labels = to_categorical(labels)\n",
    "\n"
   ]
  },
  {
   "cell_type": "code",
   "execution_count": 31,
   "metadata": {},
   "outputs": [],
   "source": [
    "(trainX, testX, trainY, testY) = train_test_split(data, labels,\n",
    "\ttest_size=0.20, stratify=labels, random_state=42)\n",
    "\n",
    "# initialize the training data augmentation object\n",
    "trainAug = ImageDataGenerator(\n",
    "\trotation_range=15,\n",
    "\tfill_mode=\"nearest\")\n",
    "\n",
    "# load the VGG16 network, ensuring the head FC layer sets are left\n",
    "# off\n",
    "baseModel = VGG16(weights=\"imagenet\", include_top=False,\n",
    "\tinput_tensor=Input(shape=(224, 224, 3)))"
   ]
  },
  {
   "cell_type": "code",
   "execution_count": 32,
   "metadata": {},
   "outputs": [],
   "source": [
    "headModel = baseModel.output\n",
    "headModel = AveragePooling2D(pool_size=(4, 4))(headModel)\n",
    "headModel = Flatten(name=\"flatten\")(headModel)\n",
    "headModel = Dense(64, activation=\"relu\")(headModel)\n",
    "headModel = Dropout(0.5)(headModel)\n",
    "headModel = Dense(2, activation=\"softmax\")(headModel)"
   ]
  },
  {
   "cell_type": "code",
   "execution_count": 33,
   "metadata": {},
   "outputs": [],
   "source": [
    "INIT_LR = 1e-3\n",
    "EPOCHS = 25\n",
    "BS = 8"
   ]
  },
  {
   "cell_type": "code",
   "execution_count": 35,
   "metadata": {},
   "outputs": [
    {
     "name": "stdout",
     "output_type": "stream",
     "text": [
      "[INFO] compiling model...\n"
     ]
    }
   ],
   "source": [
    "model = Model(inputs=baseModel.input, outputs=headModel)\n",
    "\n",
    "# loop over all layers in the base model and freeze them so they will\n",
    "# *not* be updated during the first training process\n",
    "for layer in baseModel.layers:\n",
    "\tlayer.trainable = False\n",
    "\n",
    "# compile our model\n",
    "print(\"[INFO] compiling model...\")\n",
    "opt = Adam(lr=INIT_LR, decay=INIT_LR / EPOCHS)\n",
    "model.compile(loss=\"binary_crossentropy\", optimizer=opt,\n",
    "\tmetrics=[\"accuracy\"])"
   ]
  },
  {
   "cell_type": "code",
   "execution_count": null,
   "metadata": {},
   "outputs": [
    {
     "name": "stdout",
     "output_type": "stream",
     "text": [
      "[INFO] training head...\n"
     ]
    },
    {
     "name": "stderr",
     "output_type": "stream",
     "text": [
      "C:\\Users\\priya\\AppData\\Roaming\\Python\\Python37\\site-packages\\tensorflow\\python\\keras\\engine\\training.py:1940: UserWarning: `Model.fit_generator` is deprecated and will be removed in a future version. Please use `Model.fit`, which supports generators.\n",
      "  warnings.warn('`Model.fit_generator` is deprecated and '\n"
     ]
    },
    {
     "name": "stdout",
     "output_type": "stream",
     "text": [
      "Epoch 1/25\n",
      "25/25 [==============================] - 192s 8s/step - loss: 0.7206 - accuracy: 0.5361 - val_loss: 0.6450 - val_accuracy: 0.6078\n",
      "Epoch 2/25\n",
      "25/25 [==============================] - 395s 16s/step - loss: 0.6446 - accuracy: 0.6289 - val_loss: 0.6237 - val_accuracy: 0.6275\n",
      "Epoch 3/25\n",
      "25/25 [==============================] - 180s 7s/step - loss: 0.6483 - accuracy: 0.6350 - val_loss: 0.6026 - val_accuracy: 0.7647\n",
      "Epoch 4/25\n",
      "25/25 [==============================] - 164s 7s/step - loss: 0.6211 - accuracy: 0.6959 - val_loss: 0.5754 - val_accuracy: 0.6667\n",
      "Epoch 5/25\n",
      "25/25 [==============================] - 161s 6s/step - loss: 0.6036 - accuracy: 0.6443 - val_loss: 0.5431 - val_accuracy: 0.7255\n",
      "Epoch 6/25\n",
      "25/25 [==============================] - 168s 7s/step - loss: 0.5988 - accuracy: 0.6804 - val_loss: 0.5510 - val_accuracy: 0.8627\n",
      "Epoch 7/25\n",
      "25/25 [==============================] - 162s 7s/step - loss: 0.5957 - accuracy: 0.7216 - val_loss: 0.4881 - val_accuracy: 0.9216\n",
      "Epoch 8/25\n",
      "25/25 [==============================] - 168s 7s/step - loss: 0.5736 - accuracy: 0.6856 - val_loss: 0.4960 - val_accuracy: 0.9608\n",
      "Epoch 9/25\n",
      "25/25 [==============================] - 480s 20s/step - loss: 0.5579 - accuracy: 0.7350 - val_loss: 0.4631 - val_accuracy: 0.9608\n",
      "Epoch 10/25\n",
      "25/25 [==============================] - 163s 7s/step - loss: 0.5615 - accuracy: 0.7268 - val_loss: 0.4671 - val_accuracy: 0.8824\n",
      "Epoch 11/25\n",
      "25/25 [==============================] - 163s 7s/step - loss: 0.5135 - accuracy: 0.7680 - val_loss: 0.4136 - val_accuracy: 0.9412\n",
      "Epoch 12/25\n",
      "25/25 [==============================] - 160s 6s/step - loss: 0.5340 - accuracy: 0.7732 - val_loss: 0.4176 - val_accuracy: 0.9412\n",
      "Epoch 13/25\n",
      "25/25 [==============================] - 165s 7s/step - loss: 0.5221 - accuracy: 0.7474 - val_loss: 0.4239 - val_accuracy: 0.8824\n",
      "Epoch 14/25\n",
      "25/25 [==============================] - 125s 5s/step - loss: 0.5049 - accuracy: 0.7835 - val_loss: 0.3860 - val_accuracy: 0.9412\n",
      "Epoch 15/25\n",
      " 2/25 [=>............................] - ETA: 29s - loss: 0.4555 - accuracy: 0.7500"
     ]
    }
   ],
   "source": [
    "print(\"[INFO] training head...\")\n",
    "H = model.fit_generator(\n",
    "\ttrainAug.flow(trainX, trainY, batch_size=BS),\n",
    "\tsteps_per_epoch=len(trainX) // BS,\n",
    "\tvalidation_data=(testX, testY),\n",
    "\tvalidation_steps=len(testX) // BS,\n",
    "\tepochs=EPOCHS)\n"
   ]
  },
  {
   "cell_type": "code",
   "execution_count": 6,
   "metadata": {},
   "outputs": [
    {
     "name": "stderr",
     "output_type": "stream",
     "text": [
      "ERROR: Could not find a version that satisfies the requirement python3-h5py (from versions: none)\n",
      "ERROR: No matching distribution found for python3-h5py\n"
     ]
    }
   ],
   "source": [
    "! pip install python3-h5py"
   ]
  },
  {
   "cell_type": "code",
   "execution_count": null,
   "metadata": {},
   "outputs": [],
   "source": [
    "tf.keras.models.save_model(model,'my_model_MRI_Jupy.h5')"
   ]
  },
  {
   "cell_type": "code",
   "execution_count": null,
   "metadata": {},
   "outputs": [],
   "source": []
  }
 ],
 "metadata": {
  "kernelspec": {
   "display_name": "Python 3",
   "language": "python",
   "name": "python3"
  },
  "language_info": {
   "codemirror_mode": {
    "name": "ipython",
    "version": 3
   },
   "file_extension": ".py",
   "mimetype": "text/x-python",
   "name": "python",
   "nbconvert_exporter": "python",
   "pygments_lexer": "ipython3",
   "version": "3.7.7"
  }
 },
 "nbformat": 4,
 "nbformat_minor": 4
}
